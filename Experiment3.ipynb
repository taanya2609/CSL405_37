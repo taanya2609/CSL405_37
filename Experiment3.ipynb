{
  "cells": [
    {
      "cell_type": "markdown",
      "id": "bb90493b-3f8d-4413-906b-b1bd0d14873e",
      "metadata": {},
      "source": [
        "Name - TAANYA NIGAM\n",
        "SE / 37"
      ]
    },
    {
      "cell_type": "markdown",
      "id": "56cf9a07-cff9-4213-90ef-e70d2e4f672c",
      "metadata": {},
      "source": [
        "file.txt\n",
        "This is a sample file.\n",
        "It contains multiple lines.\n",
        "Each line has words and characters.\n",
        "Python is great for text processing!"
      ]
    },
    {
      "cell_type": "code",
      "execution_count": 1,
      "id": "1368f5b1-4977-49d9-af22-a5e568f470dd",
      "metadata": {
        "trusted": true
      },
      "outputs": [
        {
          "name": "stdout",
          "output_type": "stream",
          "text": [
            "Lines: 4\n",
            "Words: 21\n",
            "Characters: 123\n"
          ]
        }
      ],
      "source": [
        "if __name__ == '__main__':\n",
        "    with open ('file.txt', 'r') as file:\n",
        "        lines = file.readlines ()\n",
        "        numberOfLines = len (lines)\n",
        "        numberOfWords = sum (len (line.split()) for line in lines)\n",
        "        numberOfCharacters = sum(len(line)for line in lines)\n",
        "        file.close()\n",
        "\n",
        "    print(f\"Lines: {numberOfLines}\")\n",
        "    print(f\"Words: {numberOfWords}\")\n",
        "    print(f\"Characters: {numberOfCharacters}\")"
      ]
    },
    {
      "cell_type": "code",
      "execution_count": null,
      "id": "d142f825-d669-4e6f-86d9-e089cb68fae5",
      "metadata": {
        "jupyter": {
          "source_hidden": true
        },
        "trusted": true
      },
      "outputs": [],
      "source": []
    }
  ],
  "metadata": {
    "kernelspec": {
      "display_name": "Python (Pyodide)",
      "language": "python",
      "name": "python"
    },
    "language_info": {
      "codemirror_mode": {
        "name": "python",
        "version": 3
      },
      "file_extension": ".py",
      "mimetype": "text/x-python",
      "name": "python",
      "nbconvert_exporter": "python",
      "pygments_lexer": "ipython3",
      "version": "3.8"
    }
  },
  "nbformat": 4,
  "nbformat_minor": 5
}
