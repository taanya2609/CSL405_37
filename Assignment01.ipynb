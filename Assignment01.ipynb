{
 "cells": [
  {
   "cell_type": "code",
   "execution_count": 3,
   "id": "a0b77965-aeb3-42b9-870e-833a7a59b97d",
   "metadata": {},
   "outputs": [
    {
     "name": "stdout",
     "output_type": "stream",
     "text": [
      "\n",
      "1. Add a new product\n",
      "2. Update product stock\n",
      "3. View product details\n",
      "4. Exit\n"
     ]
    },
    {
     "name": "stdin",
     "output_type": "stream",
     "text": [
      "Enter your choice:  1\n",
      "Enter product name:  Mobile\n",
      "Enter product price:  200\n",
      "Enter product stock:  50\n"
     ]
    },
    {
     "name": "stdout",
     "output_type": "stream",
     "text": [
      "Product added successfully!\n",
      "\n",
      "1. Add a new product\n",
      "2. Update product stock\n",
      "3. View product details\n",
      "4. Exit\n"
     ]
    },
    {
     "name": "stdin",
     "output_type": "stream",
     "text": [
      "Enter your choice:  2\n",
      "Enter product name to update:  Mobile\n",
      "Enter quantity to add/remove:  -10\n"
     ]
    },
    {
     "name": "stdout",
     "output_type": "stream",
     "text": [
      "Stock updated successfully!\n",
      "\n",
      "1. Add a new product\n",
      "2. Update product stock\n",
      "3. View product details\n",
      "4. Exit\n"
     ]
    },
    {
     "name": "stdin",
     "output_type": "stream",
     "text": [
      "Enter your choice:  3\n",
      "Enter product name:  Mobile\n"
     ]
    },
    {
     "name": "stdout",
     "output_type": "stream",
     "text": [
      "Product: Mobile, Price: $200.00, Stock: 40\n",
      "\n",
      "1. Add a new product\n",
      "2. Update product stock\n",
      "3. View product details\n",
      "4. Exit\n"
     ]
    },
    {
     "name": "stdin",
     "output_type": "stream",
     "text": [
      "Enter your choice:  4\n"
     ]
    },
    {
     "name": "stdout",
     "output_type": "stream",
     "text": [
      "Exiting the system. Goodbye!\n"
     ]
    }
   ],
   "source": [
    "class Product:\n",
    "    def __init__(self, name, price, stock):\n",
    "        self.name = name\n",
    "        self.price = price\n",
    "        self.stock = stock\n",
    "\n",
    "    def update_stock(self, quantity):\n",
    "        self.stock += quantity\n",
    "        print(\"Stock updated successfully!\")\n",
    "\n",
    "    def __str__(self):\n",
    "        return f\"Product: {self.name}, Price: ${self.price:.2f}, Stock: {self.stock}\"\n",
    "\n",
    "\n",
    "class Store:\n",
    "    def __init__(self):\n",
    "        self.products = {}\n",
    "\n",
    "    def add_product(self):\n",
    "        name = input(\"Enter product name: \")\n",
    "        if name in self.products:\n",
    "            print(\"Product already exists.\")\n",
    "            return\n",
    "        try:\n",
    "            price = float(input(\"Enter product price: \"))\n",
    "            stock = int(input(\"Enter product stock: \"))\n",
    "            self.products[name] = Product(name, price, stock)\n",
    "            print(\"Product added successfully!\")\n",
    "        except ValueError:\n",
    "            print(\"Invalid input. Please enter a valid price and stock quantity.\")\n",
    "\n",
    "    def update_product_stock(self):\n",
    "        name = input(\"Enter product name to update: \")\n",
    "        if name not in self.products:\n",
    "            print(\"Product not found.\")\n",
    "            return\n",
    "        try:\n",
    "            quantity = int(input(\"Enter quantity to add/remove: \"))\n",
    "            self.products[name].update_stock(quantity)\n",
    "        except ValueError:\n",
    "            print(\"Invalid quantity. Please enter an integer.\")\n",
    "\n",
    "    def view_product_details(self):\n",
    "        name = input(\"Enter product name: \")\n",
    "        if name not in self.products:\n",
    "            print(\"Product not found.\")\n",
    "        else:\n",
    "            print(self.products[name])\n",
    "\n",
    "    def run(self):\n",
    "        while True:\n",
    "            print(\"\\n1. Add a new product\")\n",
    "            print(\"2. Update product stock\")\n",
    "            print(\"3. View product details\")\n",
    "            print(\"4. Exit\")\n",
    "            choice = input(\"Enter your choice: \")\n",
    "\n",
    "            if choice == '1':\n",
    "                self.add_product()\n",
    "            elif choice == '2':\n",
    "                self.update_product_stock()\n",
    "            elif choice == '3':\n",
    "                self.view_product_details()\n",
    "            elif choice == '4':\n",
    "                print(\"Exiting the system. Goodbye!\")\n",
    "                break\n",
    "            else:\n",
    "                print(\"Invalid choice. Please try again.\")\n",
    "\n",
    "\n",
    "# Run the store management system\n",
    "store = Store()\n",
    "store.run()"
   ]
  }
 ],
 "metadata": {
  "kernelspec": {
   "display_name": "Python 3 (ipykernel)",
   "language": "python",
   "name": "python3"
  },
  "language_info": {
   "codemirror_mode": {
    "name": "ipython",
    "version": 3
   },
   "file_extension": ".py",
   "mimetype": "text/x-python",
   "name": "python",
   "nbconvert_exporter": "python",
   "pygments_lexer": "ipython3",
   "version": "3.12.4"
  }
 },
 "nbformat": 4,
 "nbformat_minor": 5
}
