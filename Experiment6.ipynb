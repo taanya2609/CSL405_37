{
  "nbformat": 4,
  "nbformat_minor": 0,
  "metadata": {
    "colab": {
      "provenance": []
    },
    "kernelspec": {
      "name": "python3",
      "display_name": "Python 3"
    },
    "language_info": {
      "name": "python"
    }
  },
  "cells": [
    {
      "cell_type": "markdown",
      "source": [
        "# **SE_AI&DS_37_TAANYA NIGAM**\n"
      ],
      "metadata": {
        "id": "yVur-JjhOZ_K"
      }
    },
    {
      "cell_type": "markdown",
      "source": [
        "# Importing"
      ],
      "metadata": {
        "id": "9iIimRYUOguR"
      }
    },
    {
      "cell_type": "code",
      "source": [
        "import sqlite3"
      ],
      "metadata": {
        "id": "kX9W-j8QOanC"
      },
      "execution_count": 23,
      "outputs": []
    },
    {
      "cell_type": "markdown",
      "source": [
        "# Connecting to Database"
      ],
      "metadata": {
        "id": "pvKqSOoUOefJ"
      }
    },
    {
      "cell_type": "code",
      "source": [
        "connection = sqlite3.connect ('./genericDatabase.db')\n",
        "cursor = connection.cursor ()"
      ],
      "metadata": {
        "id": "THHmCgLaOnSp"
      },
      "execution_count": 24,
      "outputs": []
    },
    {
      "cell_type": "markdown",
      "source": [
        "# Create Table"
      ],
      "metadata": {
        "id": "wDNrM2WLOqvB"
      }
    },
    {
      "cell_type": "code",
      "source": [
        "cursor.execute('''\n",
        "    CREATE TABLE IF NOT EXISTS students (\n",
        "        id INTEGER PRIMARY KEY AUTOINCREMENT,\n",
        "        name TEXT NOT NULL,\n",
        "        age INTEGER NOT NULL\n",
        "    )\n",
        "''')\n",
        "\n",
        "connection.commit()"
      ],
      "metadata": {
        "id": "j8smRXsnOtsR"
      },
      "execution_count": 25,
      "outputs": []
    },
    {
      "cell_type": "markdown",
      "source": [
        "# CRUD Operations"
      ],
      "metadata": {
        "id": "x4XB1EMXOzWB"
      }
    },
    {
      "cell_type": "markdown",
      "source": [
        "\n",
        "# Create (Insertion)"
      ],
      "metadata": {
        "id": "z3zwnoepY_BL"
      }
    },
    {
      "cell_type": "code",
      "source": [
        "def create_student(name, age):\n",
        "    cursor.execute('''\n",
        "        INSERT INTO students (name, age)\n",
        "        VALUES (?, ?)\n",
        "    ''', (name, age))\n",
        "    connection.commit()\n",
        "    print(\"Record added successfully!\")\n",
        "\n",
        "create_student(\"Griffith\", 20)\n",
        "create_student(\"Guts\", 22)"
      ],
      "metadata": {
        "colab": {
          "base_uri": "https://localhost:8080/"
        },
        "id": "NcmpqRnxO1hx",
        "outputId": "811dd272-42df-47b4-81fd-1f0b44909461"
      },
      "execution_count": 26,
      "outputs": [
        {
          "output_type": "stream",
          "name": "stdout",
          "text": [
            "Record added successfully!\n",
            "Record added successfully!\n"
          ]
        }
      ]
    },
    {
      "cell_type": "markdown",
      "source": [
        "# Read (Retrieve)"
      ],
      "metadata": {
        "id": "vjJChtuBO8XC"
      }
    },
    {
      "cell_type": "code",
      "source": [
        "def read_students():\n",
        "    cursor.execute('SELECT * FROM students')\n",
        "    rows = cursor.fetchall()\n",
        "    print(\"Student Records:\")\n",
        "    for row in rows:\n",
        "        print(row)\n",
        "\n",
        "read_students()"
      ],
      "metadata": {
        "colab": {
          "base_uri": "https://localhost:8080/"
        },
        "id": "ERjRxKpYO9KB",
        "outputId": "150f5cc7-fd53-4840-b218-b1847e085afe"
      },
      "execution_count": 29,
      "outputs": [
        {
          "output_type": "stream",
          "name": "stdout",
          "text": [
            "Student Records:\n",
            "(1, 'Griffith', 20)\n",
            "(2, 'Guts', 22)\n",
            "(3, 'Griffith', 20)\n"
          ]
        }
      ]
    },
    {
      "cell_type": "markdown",
      "source": [
        "# Update"
      ],
      "metadata": {
        "id": "OfIM5GepPE55"
      }
    },
    {
      "cell_type": "code",
      "source": [
        "\n",
        "def update_student_age(student_id, new_age):\n",
        "    # Re-establish the connection since it was closed earlier\n",
        "    connection = sqlite3.connect('./genericDatabase.db')\n",
        "    cursor = connection.cursor()\n",
        "\n",
        "    cursor.execute('''UPDATE students SET age = ? WHERE id = ?''', (new_age, student_id))\n",
        "    connection.commit()\n",
        "    print(\"Student age updated successfully!\" if cursor.rowcount else \"No student found with this ID.\")\n",
        "\n",
        "update_student_age(1, 21)\n",
        "read_students()\n"
      ],
      "metadata": {
        "colab": {
          "base_uri": "https://localhost:8080/"
        },
        "id": "lLW7shIuPFZa",
        "outputId": "05d41f95-7558-4b2f-d8b8-f8756b778ced"
      },
      "execution_count": 31,
      "outputs": [
        {
          "output_type": "stream",
          "name": "stdout",
          "text": [
            "Student age updated successfully!\n",
            "Student Records:\n",
            "(1, 'Griffith', 21)\n",
            "(2, 'Guts', 22)\n",
            "(3, 'Griffith', 20)\n"
          ]
        }
      ]
    },
    {
      "cell_type": "markdown",
      "source": [
        "# Delete"
      ],
      "metadata": {
        "id": "pfWe8acBPKEJ"
      }
    },
    {
      "cell_type": "code",
      "source": [
        "def delete_student(student_id):\n",
        "    cursor.execute ('''DELETE FROM students WHERE id = ? ''', (student_id,)) # Added SQL query with placeholder for student_id\n",
        "    connection.commit()\n",
        "    print(\"Student deleted successfully!\")\n",
        "\n",
        "delete_student(2)\n",
        "read_students()"
      ],
      "metadata": {
        "colab": {
          "base_uri": "https://localhost:8080/"
        },
        "id": "86Uhbi4EPuAx",
        "outputId": "1d12de07-2032-4d81-cacd-ad98109f8641"
      },
      "execution_count": 33,
      "outputs": [
        {
          "output_type": "stream",
          "name": "stdout",
          "text": [
            "Student deleted successfully!\n",
            "Student Records:\n",
            "(1, 'Griffith', 21)\n",
            "(3, 'Griffith', 20)\n"
          ]
        }
      ]
    },
    {
      "cell_type": "markdown",
      "source": [
        "# Closing the database connection"
      ],
      "metadata": {
        "id": "cchDY9m-PvdB"
      }
    },
    {
      "cell_type": "code",
      "source": [
        "connection.close ()"
      ],
      "metadata": {
        "id": "uAK0j_qmPwCR"
      },
      "execution_count": 11,
      "outputs": []
    }
  ]
}