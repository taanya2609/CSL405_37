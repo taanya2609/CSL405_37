{
  "nbformat": 4,
  "nbformat_minor": 0,
  "metadata": {
    "colab": {
      "provenance": []
    },
    "kernelspec": {
      "name": "python3",
      "display_name": "Python 3"
    },
    "language_info": {
      "name": "python"
    }
  },
  "cells": [
    {
      "cell_type": "markdown",
      "source": [
        "**Name: Taanya Nigam Roll no.:37**"
      ],
      "metadata": {
        "id": "cLrc1qPkT2Ux"
      }
    },
    {
      "cell_type": "markdown",
      "source": [
        "Importing"
      ],
      "metadata": {
        "id": "pTVzvRhMUE4Q"
      }
    },
    {
      "cell_type": "code",
      "execution_count": 2,
      "metadata": {
        "collapsed": true,
        "id": "IoekXmWcRFzC"
      },
      "outputs": [],
      "source": [
        "import numpy as np"
      ]
    },
    {
      "cell_type": "markdown",
      "source": [
        "# 1. Array Creation Techniques\n"
      ],
      "metadata": {
        "id": "114Cw3KBUMKY"
      }
    },
    {
      "cell_type": "code",
      "source": [
        "print(\"1. Array Creation Techniques\")"
      ],
      "metadata": {
        "colab": {
          "base_uri": "https://localhost:8080/"
        },
        "id": "jtP33N3DUPTJ",
        "outputId": "cbeba357-796f-4fb2-9f9f-28c34674933c"
      },
      "execution_count": 3,
      "outputs": [
        {
          "output_type": "stream",
          "name": "stdout",
          "text": [
            "1. Array Creation Techniques\n"
          ]
        }
      ]
    },
    {
      "cell_type": "markdown",
      "source": [
        "a. Creating an array from a list"
      ],
      "metadata": {
        "id": "Ea38tLYUUVjg"
      }
    },
    {
      "cell_type": "code",
      "source": [
        "array_from_list = np.array([1, 2, 3, 4, 5])\n",
        "array_from_list"
      ],
      "metadata": {
        "colab": {
          "base_uri": "https://localhost:8080/"
        },
        "id": "XOeQwy3CUYI5",
        "outputId": "c3c22471-ecf2-45bf-ab19-105b774c783d"
      },
      "execution_count": 4,
      "outputs": [
        {
          "output_type": "execute_result",
          "data": {
            "text/plain": [
              "array([1, 2, 3, 4, 5])"
            ]
          },
          "metadata": {},
          "execution_count": 4
        }
      ]
    },
    {
      "cell_type": "markdown",
      "source": [
        "b. Using arange()"
      ],
      "metadata": {
        "id": "0m_JG3J0UjHA"
      }
    },
    {
      "cell_type": "code",
      "source": [
        "array_arange = np.arange(0, 10, 2)\n",
        "array_arange"
      ],
      "metadata": {
        "colab": {
          "base_uri": "https://localhost:8080/"
        },
        "id": "9M8x9XOOUkco",
        "outputId": "804f6e63-4c9b-41f4-bc18-68853c14fc07"
      },
      "execution_count": 5,
      "outputs": [
        {
          "output_type": "execute_result",
          "data": {
            "text/plain": [
              "array([0, 2, 4, 6, 8])"
            ]
          },
          "metadata": {},
          "execution_count": 5
        }
      ]
    },
    {
      "cell_type": "markdown",
      "source": [
        "c. Using linespace()"
      ],
      "metadata": {
        "id": "-Wio7ZZUUnR4"
      }
    },
    {
      "cell_type": "code",
      "source": [
        "array_linspace = np.linspace(0, 10, 5)  # Divides 0 to 10 into 5 points\n",
        "array_linspace"
      ],
      "metadata": {
        "colab": {
          "base_uri": "https://localhost:8080/"
        },
        "id": "2lsQY62LUrQo",
        "outputId": "57f710e7-6f34-4f1b-b064-4d91283479ed"
      },
      "execution_count": 6,
      "outputs": [
        {
          "output_type": "execute_result",
          "data": {
            "text/plain": [
              "array([ 0. ,  2.5,  5. ,  7.5, 10. ])"
            ]
          },
          "metadata": {},
          "execution_count": 6
        }
      ]
    },
    {
      "cell_type": "markdown",
      "source": [
        "d. Using zeros()"
      ],
      "metadata": {
        "id": "DpG6XD4TUzCA"
      }
    },
    {
      "cell_type": "code",
      "source": [
        "array_zeros = np.zeros((3, 3))\n",
        "array_zeros"
      ],
      "metadata": {
        "colab": {
          "base_uri": "https://localhost:8080/"
        },
        "id": "vKDSj1CrU4Rw",
        "outputId": "4ff4eedd-5661-4724-8485-52509b9d70bd"
      },
      "execution_count": 7,
      "outputs": [
        {
          "output_type": "execute_result",
          "data": {
            "text/plain": [
              "array([[0., 0., 0.],\n",
              "       [0., 0., 0.],\n",
              "       [0., 0., 0.]])"
            ]
          },
          "metadata": {},
          "execution_count": 7
        }
      ]
    },
    {
      "cell_type": "markdown",
      "source": [
        "e. Using ones()"
      ],
      "metadata": {
        "id": "_GPaf2eHU6l4"
      }
    },
    {
      "cell_type": "code",
      "source": [
        "array_ones = np.ones((2, 2))\n",
        "array_ones"
      ],
      "metadata": {
        "colab": {
          "base_uri": "https://localhost:8080/"
        },
        "id": "EWNCOR1tVC_4",
        "outputId": "9bd2cc38-0071-4d2f-eba6-0ebad51f0d3d"
      },
      "execution_count": 8,
      "outputs": [
        {
          "output_type": "execute_result",
          "data": {
            "text/plain": [
              "array([[1., 1.],\n",
              "       [1., 1.]])"
            ]
          },
          "metadata": {},
          "execution_count": 8
        }
      ]
    },
    {
      "cell_type": "markdown",
      "source": [
        "f. Using eye() for identity matrix"
      ],
      "metadata": {
        "id": "w-A7MpDeVFKw"
      }
    },
    {
      "cell_type": "code",
      "source": [
        "array_eye = np.eye(3)\n",
        "array_eye"
      ],
      "metadata": {
        "colab": {
          "base_uri": "https://localhost:8080/"
        },
        "id": "x92ngZV2VF5J",
        "outputId": "49343ece-f4ec-4c24-ac72-48cb3051e651"
      },
      "execution_count": 9,
      "outputs": [
        {
          "output_type": "execute_result",
          "data": {
            "text/plain": [
              "array([[1., 0., 0.],\n",
              "       [0., 1., 0.],\n",
              "       [0., 0., 1.]])"
            ]
          },
          "metadata": {},
          "execution_count": 9
        }
      ]
    },
    {
      "cell_type": "markdown",
      "source": [
        " g. Using random() for random values"
      ],
      "metadata": {
        "id": "8V7q1Qr3VOyQ"
      }
    },
    {
      "cell_type": "code",
      "source": [
        "array_random = np.random.random((3, 3))\n",
        "array_random"
      ],
      "metadata": {
        "colab": {
          "base_uri": "https://localhost:8080/"
        },
        "id": "BfzIeY_JVTuw",
        "outputId": "19420c90-f174-49b2-a5f7-4abfbb3e3d32"
      },
      "execution_count": 10,
      "outputs": [
        {
          "output_type": "execute_result",
          "data": {
            "text/plain": [
              "array([[0.06604885, 0.24175453, 0.60777303],\n",
              "       [0.72688025, 0.64040702, 0.74483667],\n",
              "       [0.26168279, 0.30573265, 0.56187023]])"
            ]
          },
          "metadata": {},
          "execution_count": 10
        }
      ]
    },
    {
      "cell_type": "markdown",
      "source": [
        "# 2. Different NumPy Methods"
      ],
      "metadata": {
        "id": "7h47brQXVWr4"
      }
    },
    {
      "cell_type": "code",
      "source": [
        "print(\"\\n2. NumPy Methods\")"
      ],
      "metadata": {
        "colab": {
          "base_uri": "https://localhost:8080/"
        },
        "id": "eZJvZ_70VZmg",
        "outputId": "08fb70a8-e1aa-4d75-d0f1-8b6a1a712427"
      },
      "execution_count": 11,
      "outputs": [
        {
          "output_type": "stream",
          "name": "stdout",
          "text": [
            "\n",
            "2. NumPy Methods\n"
          ]
        }
      ]
    },
    {
      "cell_type": "markdown",
      "source": [
        " a. Reshaping an array"
      ],
      "metadata": {
        "id": "otFNDIO5VmgI"
      }
    },
    {
      "cell_type": "code",
      "source": [
        "reshaped_array = np.arange(1, 10).reshape(3, 3)\n",
        "reshaped_array"
      ],
      "metadata": {
        "colab": {
          "base_uri": "https://localhost:8080/"
        },
        "id": "qb62eK_IVnbg",
        "outputId": "d7b0e9f0-70ff-4267-9a17-e4094efc978e"
      },
      "execution_count": 12,
      "outputs": [
        {
          "output_type": "execute_result",
          "data": {
            "text/plain": [
              "array([[1, 2, 3],\n",
              "       [4, 5, 6],\n",
              "       [7, 8, 9]])"
            ]
          },
          "metadata": {},
          "execution_count": 12
        }
      ]
    },
    {
      "cell_type": "markdown",
      "source": [
        " b. Transposing an array"
      ],
      "metadata": {
        "id": "Jp8d0fXzVpoY"
      }
    },
    {
      "cell_type": "code",
      "source": [
        "transposed_array = reshaped_array.T\n",
        "transposed_array"
      ],
      "metadata": {
        "colab": {
          "base_uri": "https://localhost:8080/"
        },
        "id": "6cduJodXVtOZ",
        "outputId": "01085429-d12e-4003-d19b-04078f957b80"
      },
      "execution_count": 13,
      "outputs": [
        {
          "output_type": "execute_result",
          "data": {
            "text/plain": [
              "array([[1, 4, 7],\n",
              "       [2, 5, 8],\n",
              "       [3, 6, 9]])"
            ]
          },
          "metadata": {},
          "execution_count": 13
        }
      ]
    },
    {
      "cell_type": "markdown",
      "source": [
        "c. Mathematical operations"
      ],
      "metadata": {
        "id": "G6DsX7kmVxjw"
      }
    },
    {
      "cell_type": "code",
      "source": [
        "array_math = np.array([1, 2, 3])\n",
        "array_math + 2\n",
        "array_math * 3\n",
        "np.sqrt(array_math)\n"
      ],
      "metadata": {
        "colab": {
          "base_uri": "https://localhost:8080/"
        },
        "id": "wHelfiB-VyXo",
        "outputId": "7cc85c6f-f225-42e8-a8f6-2abc5d44fcf8"
      },
      "execution_count": 14,
      "outputs": [
        {
          "output_type": "execute_result",
          "data": {
            "text/plain": [
              "array([1.        , 1.41421356, 1.73205081])"
            ]
          },
          "metadata": {},
          "execution_count": 14
        }
      ]
    },
    {
      "cell_type": "markdown",
      "source": [
        "d. Aggregation methods"
      ],
      "metadata": {
        "id": "wlIDvZATV05I"
      }
    },
    {
      "cell_type": "code",
      "source": [
        "np.sum(array_math)\n",
        "np.mean(array_math)\n",
        "np.max(array_math)\n",
        "np.min(array_math)\n"
      ],
      "metadata": {
        "colab": {
          "base_uri": "https://localhost:8080/"
        },
        "id": "aLqIUPwjV4Sx",
        "outputId": "050232e4-1ca7-46c0-c0e0-7b4258e01b40"
      },
      "execution_count": 15,
      "outputs": [
        {
          "output_type": "execute_result",
          "data": {
            "text/plain": [
              "np.int64(1)"
            ]
          },
          "metadata": {},
          "execution_count": 15
        }
      ]
    },
    {
      "cell_type": "markdown",
      "source": [
        "e. Concatenation of arrays"
      ],
      "metadata": {
        "id": "KhEce_CEV7kI"
      }
    },
    {
      "cell_type": "code",
      "source": [
        "array_a = np.array([1, 2, 3])\n",
        "array_b = np.array([4, 5, 6])\n",
        "concat_array = np.concatenate((array_a, array_b))\n",
        "concat_array"
      ],
      "metadata": {
        "colab": {
          "base_uri": "https://localhost:8080/"
        },
        "id": "lr0oDv8EV-XQ",
        "outputId": "60e9f496-93ab-46d3-8f9d-88ff03a97a63"
      },
      "execution_count": 16,
      "outputs": [
        {
          "output_type": "execute_result",
          "data": {
            "text/plain": [
              "array([1, 2, 3, 4, 5, 6])"
            ]
          },
          "metadata": {},
          "execution_count": 16
        }
      ]
    },
    {
      "cell_type": "markdown",
      "source": [
        "f. Sorting an array"
      ],
      "metadata": {
        "id": "_0s0A2WsWBch"
      }
    },
    {
      "cell_type": "code",
      "source": [
        "unsorted_array = np.array([3, 1, 4, 2])\n",
        "sorted_array = np.sort(unsorted_array)\n",
        "sorted_array"
      ],
      "metadata": {
        "colab": {
          "base_uri": "https://localhost:8080/"
        },
        "id": "q1w2LphNWDtY",
        "outputId": "2b97af6d-ca41-4946-b94a-db783e4706aa"
      },
      "execution_count": 17,
      "outputs": [
        {
          "output_type": "execute_result",
          "data": {
            "text/plain": [
              "array([1, 2, 3, 4])"
            ]
          },
          "metadata": {},
          "execution_count": 17
        }
      ]
    },
    {
      "cell_type": "markdown",
      "source": [
        " g. Indexing and Slicing"
      ],
      "metadata": {
        "id": "fEW1iAdBWHi4"
      }
    },
    {
      "cell_type": "code",
      "source": [
        "indexed_value = array_math[1]  # Indexing\n",
        "indexed_value\n",
        "sliced_array = array_math[1:3]  # Slicing\n",
        "sliced_array"
      ],
      "metadata": {
        "colab": {
          "base_uri": "https://localhost:8080/"
        },
        "id": "IaWkZtwMWItx",
        "outputId": "5242cd81-e4f7-41eb-8d55-780c33f5eeed"
      },
      "execution_count": 18,
      "outputs": [
        {
          "output_type": "execute_result",
          "data": {
            "text/plain": [
              "array([2, 3])"
            ]
          },
          "metadata": {},
          "execution_count": 18
        }
      ]
    },
    {
      "cell_type": "markdown",
      "source": [
        " h. Boolean Masking"
      ],
      "metadata": {
        "id": "UDhcKpvNWMlJ"
      }
    },
    {
      "cell_type": "code",
      "source": [
        "boolean_mask = array_math > 2\n",
        "boolean_mask\n",
        "array_math[boolean_mask]"
      ],
      "metadata": {
        "colab": {
          "base_uri": "https://localhost:8080/"
        },
        "id": "ZyDIW1h6WNgp",
        "outputId": "ff7c2690-a100-4eb1-f5f5-a953ccdfb785"
      },
      "execution_count": 19,
      "outputs": [
        {
          "output_type": "execute_result",
          "data": {
            "text/plain": [
              "array([3])"
            ]
          },
          "metadata": {},
          "execution_count": 19
        }
      ]
    }
  ]
}