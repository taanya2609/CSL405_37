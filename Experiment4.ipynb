{
 "cells": [
  {
   "cell_type": "code",
   "execution_count": 1,
   "id": "12847dd3-5137-42e6-abe8-359888d6a1a8",
   "metadata": {},
   "outputs": [
    {
     "name": "stdout",
     "output_type": "stream",
     "text": [
      "Files in the current directory:\n",
      ".angular-config.json\n",
      ".condarc\n",
      "Arima.ipynb\n",
      "Experiment 3 SE-35.ipynb\n",
      "NTUSER.DAT\n",
      "ntuser.dat.LOG1\n",
      "ntuser.dat.LOG2\n",
      "NTUSER.DAT{be627a57-e8cb-11ee-a72b-bddb68f56b07}.TxR.0.regtrans-ms\n",
      "NTUSER.DAT{be627a57-e8cb-11ee-a72b-bddb68f56b07}.TxR.1.regtrans-ms\n",
      "NTUSER.DAT{be627a57-e8cb-11ee-a72b-bddb68f56b07}.TxR.2.regtrans-ms\n",
      "NTUSER.DAT{be627a57-e8cb-11ee-a72b-bddb68f56b07}.TxR.blf\n",
      "NTUSER.DAT{be627a58-e8cb-11ee-a72b-bddb68f56b07}.TM.blf\n",
      "NTUSER.DAT{be627a58-e8cb-11ee-a72b-bddb68f56b07}.TMContainer00000000000000000001.regtrans-ms\n",
      "NTUSER.DAT{be627a58-e8cb-11ee-a72b-bddb68f56b07}.TMContainer00000000000000000002.regtrans-ms\n",
      "ntuser.ini\n",
      "package-lock.json\n",
      "text_processing.ipynb\n",
      "Untitled-checkpoint.ipynb\n",
      "Untitled.ipynb\n",
      "Untitled1.ipynb\n"
     ]
    },
    {
     "data": {
      "text/plain": [
       "'\\nThe above scipt uses os module to perform the required function.\\nUtilize the pathlib module to perform the same functionality.\\n'"
      ]
     },
     "execution_count": 1,
     "metadata": {},
     "output_type": "execute_result"
    }
   ],
   "source": [
    "import os\n",
    "\n",
    "files = [f for f in os.listdir('.') if os.path.isfile(f)]\n",
    "\n",
    "print(\"Files in the current directory:\")\n",
    "for file in files:\n",
    "    print(file)\n",
    "\n",
    "'''\n",
    "The above scipt uses os module to perform the required function.\n",
    "Utilize the pathlib module to perform the same functionality.\n",
    "'''"
   ]
  },
  {
   "cell_type": "code",
   "execution_count": 2,
   "id": "41e18712-2d62-4345-928e-5f3ed6b53e1a",
   "metadata": {},
   "outputs": [
    {
     "name": "stdout",
     "output_type": "stream",
     "text": [
      "Files in the current directory:\n",
      ".angular-config.json\n",
      ".condarc\n",
      "Arima.ipynb\n",
      "Experiment 3 SE-35.ipynb\n",
      "NTUSER.DAT\n",
      "ntuser.dat.LOG1\n",
      "ntuser.dat.LOG2\n",
      "NTUSER.DAT{be627a57-e8cb-11ee-a72b-bddb68f56b07}.TxR.0.regtrans-ms\n",
      "NTUSER.DAT{be627a57-e8cb-11ee-a72b-bddb68f56b07}.TxR.1.regtrans-ms\n",
      "NTUSER.DAT{be627a57-e8cb-11ee-a72b-bddb68f56b07}.TxR.2.regtrans-ms\n",
      "NTUSER.DAT{be627a57-e8cb-11ee-a72b-bddb68f56b07}.TxR.blf\n",
      "NTUSER.DAT{be627a58-e8cb-11ee-a72b-bddb68f56b07}.TM.blf\n",
      "NTUSER.DAT{be627a58-e8cb-11ee-a72b-bddb68f56b07}.TMContainer00000000000000000001.regtrans-ms\n",
      "NTUSER.DAT{be627a58-e8cb-11ee-a72b-bddb68f56b07}.TMContainer00000000000000000002.regtrans-ms\n",
      "ntuser.ini\n",
      "package-lock.json\n",
      "text_processing.ipynb\n",
      "Untitled-checkpoint.ipynb\n",
      "Untitled.ipynb\n",
      "Untitled1.ipynb\n",
      "Untitled2.ipynb\n"
     ]
    }
   ],
   "source": [
    "from pathlib import Path\n",
    "\n",
    "# Create a Path object for the current directory\n",
    "current_directory = Path('.')\n",
    "\n",
    "# Get a list of all files in the current directory\n",
    "files = [f for f in current_directory.iterdir() if f.is_file()]\n",
    "\n",
    "# Print the files\n",
    "print(\"Files in the current directory:\")\n",
    "for file in files:\n",
    "    print(file.name)"
   ]
  },
  {
   "cell_type": "code",
   "execution_count": null,
   "id": "6168d38b-f374-4cc9-8b77-ecaeb2dc295f",
   "metadata": {},
   "outputs": [],
   "source": []
  }
 ],
 "metadata": {
  "kernelspec": {
   "display_name": "Python 3 (ipykernel)",
   "language": "python",
   "name": "python3"
  },
  "language_info": {
   "codemirror_mode": {
    "name": "ipython",
    "version": 3
   },
   "file_extension": ".py",
   "mimetype": "text/x-python",
   "name": "python",
   "nbconvert_exporter": "python",
   "pygments_lexer": "ipython3",
   "version": "3.11.7"
  }
 },
 "nbformat": 4,
 "nbformat_minor": 5
}
