{
 "cells": [
  {
   "cell_type": "code",
   "execution_count": 10,
   "metadata": {},
   "outputs": [
    {
     "name": "stdout",
     "output_type": "stream",
     "text": [
      "Fullstack\n",
      "Frontend Developer\n",
      "Backend Developer\n",
      "Not a Developer\n"
     ]
    }
   ],
   "source": [
    "class Employee:\n",
    "    def __init__ (self, designation : str = 'Developer', frontend : bool = False, backend : bool = False\n",
    "):\n",
    "        self.designation = designation\n",
    "        self.frontend = frontend\n",
    "        self.backend = backend\n",
    "\n",
    "    def __repr__ (self):\n",
    "        return '{} {} {}'.format (self.designation, self.frontend, self.backend)\n",
    "    \n",
    "    ### Write the your method over here.\n",
    "    def verifier(self):\n",
    "        if self.frontend and self.backend:\n",
    "            return \"Fullstack\"\n",
    "        elif self.frontend:\n",
    "            return \"Frontend Developer\"\n",
    "        elif self.backend:\n",
    "            return \"Backend Developer\"\n",
    "        else:\n",
    "            return \"Not a Developer\"\n",
    "\n",
    "if __name__ == '__main__':\n",
    "    firstEmployee = Employee(frontend=True, backend=True)\n",
    "    secondEmployee = Employee(frontend=True, backend=False)\n",
    "    thirdEmployee = Employee(frontend=False, backend=True)\n",
    "    fourthEmployee = Employee(frontend=False, backend=False)\n",
    "    print(firstEmployee.verifier())\n",
    "    print(secondEmployee.verifier()) \n",
    "    print(thirdEmployee.verifier()) \n",
    "    print(fourthEmployee.verifier())  "
   ]
  }
 ],
 "metadata": {
  "kernelspec": {
   "display_name": "Python 3",
   "language": "python",
   "name": "python3"
  },
  "language_info": {
   "codemirror_mode": {
    "name": "ipython",
    "version": 3
   },
   "file_extension": ".py",
   "mimetype": "text/x-python",
   "name": "python",
   "nbconvert_exporter": "python",
   "pygments_lexer": "ipython3",
   "version": "3.7.1"
  }
 },
 "nbformat": 4,
 "nbformat_minor": 2
}
