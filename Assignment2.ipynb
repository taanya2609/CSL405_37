{
  "nbformat": 4,
  "nbformat_minor": 0,
  "metadata": {
    "colab": {
      "provenance": []
    },
    "kernelspec": {
      "name": "python3",
      "display_name": "Python 3"
    },
    "language_info": {
      "name": "python"
    }
  },
  "cells": [
    {
      "cell_type": "markdown",
      "source": [
        "**ASSIGNMENT 2**"
      ],
      "metadata": {
        "id": "zHlbEl_zQUB0"
      }
    },
    {
      "cell_type": "markdown",
      "source": [
        "Name: Taanya Nigam\n",
        "Roll no.: 37\n"
      ],
      "metadata": {
        "id": "HFdKtwxNU0Ia"
      }
    },
    {
      "cell_type": "markdown",
      "source": [
        "You are given a large log file containing various system events. Each line in the log file follows\n",
        "this format:\n",
        "[YYYY-MM-DD HH:MM:SS] [LOG_LEVEL] [MODULE]\n",
        "Message\n",
        "where:\n",
        "• YYYY-MM-DD HH:MM:SS is a timestamp.\n",
        "• LOG_LEVEL can be INFO, WARN, ERROR, or DEBUG.\n",
        "• MODULE represents the system module name (alphanumeric, can contain underscores).\n",
        "• Message is the actual log message (it may contain any characters).\n"
      ],
      "metadata": {
        "id": "KXZnMeRWQiCa"
      }
    },
    {
      "cell_type": "markdown",
      "source": [
        "Your Task\n",
        "Write a function extract_critical_errors(log_data: str) -> list[tuple] that takes a\n",
        "multiline string log_data (containing log entries) and returns a list of tuples containing:\n",
        "1. The timestamp\n",
        "2. The module name\n",
        "3. The error message"
      ],
      "metadata": {
        "id": "arsY6u-9VyqE"
      }
    },
    {
      "cell_type": "markdown",
      "source": [
        "BUT only if:\n",
        "• The LOG_LEVEL is ERROR.\n",
        "• The message contains at least one IP address in IPv4 format (xxx.xxx.xxx.xxx, where\n",
        "xxx is in the range 0-255).\n",
        "• The message contains a hexadecimal error code, formatted as 0x followed by exactly 8\n",
        "hexadecimal digits (0-9, A-F)."
      ],
      "metadata": {
        "id": "aoAR4RMVV13C"
      }
    },
    {
      "cell_type": "markdown",
      "source": [
        "Constraints\n",
        "• Your function must use one single regex pattern to extract the required information.\n",
        "• You cannot use multiple regex calls; the full extraction must be done in one pass using\n",
        "re.findall() or re.finditer().\n",
        "• Assume log_data contains multiple lines.\n",
        "• Make your regex IP-matching strict, ensuring that invalid IPs (e.g., 256.100.10.10) are\n",
        "not mistakenly matched. (Optional)"
      ],
      "metadata": {
        "id": "V904ftQVV5Ra"
      }
    },
    {
      "cell_type": "code",
      "execution_count": 5,
      "metadata": {
        "colab": {
          "base_uri": "https://localhost:8080/"
        },
        "id": "NFz8rv1BQSNw",
        "outputId": "5116cddf-9167-4b22-f190-4cd251b2fa7e"
      },
      "outputs": [
        {
          "output_type": "stream",
          "name": "stdout",
          "text": [
            "[('2025-02-10 15:45:32', 'Net_Module', 'Connection timeout from 192.168.1.10. Error Code: 0xAB12CD34'), ('2025-02-10 17:12:05', 'Security_Module', 'Unauthorized access detected from 10.0.0.5. Error Code: 0xDEADBEEF')]\n"
          ]
        }
      ],
      "source": [
        "import re\n",
        "def extract_critical_errors(log_data: str) -> list[tuple]:\n",
        "  # Single regex pattern to extract required information in one pass\n",
        "  pattern = re.compile(\n",
        "      r'\\[(\\d{4}-\\d{2}-\\d{2} \\d{2}:\\d{2}:\\d{2})\\] \\[ERROR\\] \\[([a-zA-Z0-9_]+)\\] '\n",
        "      r'([^\\n]*\\b(?:25[0-5]|2[0-4]\\d|1\\d{2}|[1-9]?\\d)\\.(?:25[0-5]|2[0-4]\\d|1\\d{2}|[1-9]?\\d)\\.'\n",
        "      r'(?:25[0-5]|2[0-4]\\d|1\\d{2}|[1-9]?\\d)\\.(?:25[0-5]|2[0-4]\\d|1\\d{2}|[1-9]?\\d)\\b[^\\n]*'\n",
        "      r'\\b0x[A-Fa-f0-9]{8}\\b[^\\n]*)'\n",
        "      )\n",
        "  return [(match[0], match[1], match[2].strip()) for match in pattern.findall(log_data)]\n",
        "test_log = '''\n",
        "[2025-02-10 15:45:32] [ERROR] [Net_Module] Connection timeout from 192.168.1.10. Error Code: 0xAB12CD34\n",
        "[2025-02-10 16:00:00] [INFO] [Auth_Module] User login successful.\n",
        "[2025-02-10 17:12:05] [ERROR] [Security_Module] Unauthorized access detected from 10.0.0.5. Error Code: 0xDEADBEEF\n",
        "[2025-02-10 18:30:45] [WARN] [Storage_Module] Disk usage at 90%.\n",
        "'''\n",
        "result = extract_critical_errors(test_log)\n",
        "print(result)"
      ]
    }
  ]
}