{
  "nbformat": 4,
  "nbformat_minor": 0,
  "metadata": {
    "colab": {
      "provenance": []
    },
    "kernelspec": {
      "name": "python3",
      "display_name": "Python 3"
    },
    "language_info": {
      "name": "python"
    }
  },
  "cells": [
    {
      "cell_type": "markdown",
      "source": [
        "Name: Taanya Nigam\n",
        "Roll no.: 37"
      ],
      "metadata": {
        "id": "U-N3Wme0YYx7"
      }
    },
    {
      "cell_type": "code",
      "source": [
        "import threading\n",
        "import time\n",
        "\n",
        "def print_numbers():\n",
        "    for i in range(1, 6):\n",
        "        print(f\"Thread 1 - Number: {i}\")\n",
        "        time.sleep(1)\n",
        "\n",
        "def print_letters():\n",
        "    for letter in 'ABCDE':\n",
        "        print(f\"Thread 2 - Letter: {letter}\")\n",
        "        time.sleep(1)\n",
        "\n",
        "def print_squares():\n",
        "    for i in range(1, 6):\n",
        "        print(f\"Thread 3 - Square of {i}: {i ** 2}\")\n",
        "        time.sleep(1)\n",
        "\n",
        "# Creating threads\n",
        "thread1 = threading.Thread(target=print_numbers)\n",
        "thread2 = threading.Thread(target=print_letters)\n",
        "thread3 = threading.Thread(target=print_squares)\n",
        "\n",
        "# Starting threads\n",
        "thread1.start()\n",
        "thread2.start()\n",
        "thread3.start()\n",
        "\n",
        "# Ensuring all threads complete\n",
        "thread1.join()\n",
        "thread2.join()\n",
        "thread3.join()\n",
        "\n",
        "print(\"All threads have finished executing.\")"
      ],
      "metadata": {
        "colab": {
          "base_uri": "https://localhost:8080/"
        },
        "id": "7tHRaHRaYlSa",
        "outputId": "d32efb04-5ca3-4947-dfe0-b042c36bb78a"
      },
      "execution_count": 1,
      "outputs": [
        {
          "output_type": "stream",
          "name": "stdout",
          "text": [
            "Thread 1 - Number: 1Thread 2 - Letter: A\n",
            "Thread 3 - Square of 1: 1\n",
            "\n",
            "Thread 2 - Letter: BThread 3 - Square of 2: 4\n",
            "\n",
            "Thread 1 - Number: 2\n",
            "Thread 3 - Square of 3: 9\n",
            "Thread 2 - Letter: C\n",
            "Thread 1 - Number: 3\n",
            "Thread 3 - Square of 4: 16Thread 2 - Letter: D\n",
            "Thread 1 - Number: 4\n",
            "\n",
            "Thread 2 - Letter: E\n",
            "Thread 1 - Number: 5\n",
            "Thread 3 - Square of 5: 25\n",
            "All threads have finished executing.\n"
          ]
        }
      ]
    }
  ]
}