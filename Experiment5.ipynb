{
  "nbformat": 4,
  "nbformat_minor": 0,
  "metadata": {
    "colab": {
      "provenance": []
    },
    "kernelspec": {
      "name": "python3",
      "display_name": "Python 3"
    },
    "language_info": {
      "name": "python"
    }
  },
  "cells": [
    {
      "cell_type": "code",
      "execution_count": 1,
      "metadata": {
        "colab": {
          "base_uri": "https://localhost:8080/"
        },
        "id": "kzj0-ueUFQJP",
        "outputId": "8e7fe402-0847-4783-cfbe-d6166f34119f"
      },
      "outputs": [
        {
          "output_type": "stream",
          "name": "stdout",
          "text": [
            "Initial Stack\n",
            "['a', 'b', 'c']\n"
          ]
        }
      ],
      "source": [
        "stack = list ()\n",
        "\n",
        "# Append Operation\n",
        "stack.append ('a')\n",
        "stack.append ('b')\n",
        "stack.append ('c')\n",
        "print ('Initial Stack')\n",
        "print (stack)"
      ]
    },
    {
      "cell_type": "code",
      "source": [
        "# Pop Operation\n",
        "print (stack.pop ())\n",
        "print (stack.pop ())\n",
        "print (stack.pop ())\n",
        "print (stack)\n"
      ],
      "metadata": {
        "colab": {
          "base_uri": "https://localhost:8080/"
        },
        "id": "yoQlh0JjKk9h",
        "outputId": "62f4e2de-c85a-4ac4-efc4-45dfc61a5f4d"
      },
      "execution_count": 2,
      "outputs": [
        {
          "output_type": "stream",
          "name": "stdout",
          "text": [
            "c\n",
            "b\n",
            "a\n",
            "[]\n"
          ]
        }
      ]
    },
    {
      "cell_type": "code",
      "source": [
        "'''\n",
        "Given a valid parentheses string stringInput, return the nesting depth of stringInput.\n",
        "The nesting depth is the maximum number of nested parentheses.\n",
        "\n",
        "Example 1:\n",
        "Input: s = \"(1+(2*3)+((8)/4))+1\"\n",
        "Output: 3\n",
        "Explanation:\n",
        "Digit 8 is inside of 3 nested parentheses in the string.\n",
        "\n",
        "Example 2:\n",
        "Input: s = \"(1)+((2))+(((3)))\"\n",
        "Output: 3\n",
        "Explanation:\n",
        "Digit 3 is inside of 3 nested parentheses in the string.\n",
        "\n",
        "Example 3:\n",
        "Input: s = \"()(())((()()))\"\n",
        "Output: 3\n",
        "'''\n"
      ],
      "metadata": {
        "colab": {
          "base_uri": "https://localhost:8080/",
          "height": 70
        },
        "collapsed": true,
        "id": "zHpxWEMZKpNR",
        "outputId": "6e8e1900-d73a-48f2-e277-0de673e42d16"
      },
      "execution_count": 3,
      "outputs": [
        {
          "output_type": "execute_result",
          "data": {
            "text/plain": [
              "'\\nGiven a valid parentheses string stringInput, return the nesting depth of stringInput.\\nThe nesting depth is the maximum number of nested parentheses.\\n\\nExample 1:\\nInput: s = \"(1+(2*3)+((8)/4))+1\"\\nOutput: 3\\nExplanation:\\nDigit 8 is inside of 3 nested parentheses in the string.\\n\\nExample 2:\\nInput: s = \"(1)+((2))+(((3)))\"\\nOutput: 3\\nExplanation:\\nDigit 3 is inside of 3 nested parentheses in the string.\\n\\nExample 3:\\nInput: s = \"()(())((()()))\"\\nOutput: 3\\n'"
            ],
            "application/vnd.google.colaboratory.intrinsic+json": {
              "type": "string"
            }
          },
          "metadata": {},
          "execution_count": 3
        }
      ]
    },
    {
      "cell_type": "code",
      "source": [
        "def maxDepth(s: str) -> int:\n",
        "    current_depth = 0\n",
        "    max_depth = 0\n",
        "\n",
        "    for char in s:\n",
        "        if char == '(':\n",
        "            current_depth += 1\n",
        "            max_depth = max(max_depth, current_depth)\n",
        "        elif char == ')':\n",
        "            current_depth -= 1\n",
        "\n",
        "    return max_depth\n",
        "\n",
        "# Get user input\n",
        "user_input = input(\"Enter a valid parentheses string: \")\n",
        "\n",
        "# Calculate the maximum nesting depth\n",
        "result = maxDepth(user_input)\n",
        "\n",
        "# Display the result in the specified format\n",
        "print(f\"Input: s = \\\"{user_input}\\\"\")\n",
        "def maxDepth(s: str) -> int:\n",
        "    current_depth = 0\n",
        "    max_depth = 0\n",
        "\n",
        "    for char in s:\n",
        "        if char == '(':\n",
        "            current_depth += 1\n",
        "            max_depth = max(max_depth, current_depth)\n",
        "        elif char == ')':\n",
        "            current_depth -= 1\n",
        "\n",
        "    return max_depth\n",
        "\n",
        "# Get user input\n",
        "user_input = input(\"Enter a valid parentheses string: \")\n",
        "\n",
        "# Calculate the maximum nesting depth\n",
        "result = maxDepth(user_input)\n",
        "\n",
        "# Display the result in the specified format\n",
        "print(f\"Input: s = \\\"{user_input}\\\"\")\n",
        "print(f\"Output: {result}\")\n",
        "print(f\"Explanation:\")\n",
        "#The following line was causing a NameError because 'your digit' was undefined.  I've commented it out.\n",
        "#print(f\"Digit {your digit} is inside of {result} nested parentheses in the string.\")\n",
        "print(f\"The maximum depth of nested parentheses is {result}.\")"
      ],
      "metadata": {
        "colab": {
          "base_uri": "https://localhost:8080/"
        },
        "collapsed": true,
        "id": "eSuYRhFkK7Ex",
        "outputId": "08fd8543-848c-4678-aecd-e28d90826f67"
      },
      "execution_count": 19,
      "outputs": [
        {
          "output_type": "stream",
          "name": "stdout",
          "text": [
            "Enter a valid parentheses string: (1+(2*3)+((8)/4))+1\n",
            "Input: s = \"(1+(2*3)+((8)/4))+1\"\n",
            "Enter a valid parentheses string: (1+(2*3)+((8)/4))+1\n",
            "Input: s = \"(1+(2*3)+((8)/4))+1\"\n",
            "Output: 3\n",
            "Explanation:\n",
            "The maximum depth of nested parentheses is 3.\n"
          ]
        }
      ]
    }
  ]
}